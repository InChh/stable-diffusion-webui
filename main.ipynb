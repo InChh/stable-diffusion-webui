{
 "cells": [
  {
   "cell_type": "code",
   "execution_count": null,
   "metadata": {},
   "outputs": [],
   "source": [
    "!apt-get -y install -qq aria2\n",
    "!pip install -q https://github.com/camenduru/stable-diffusion-webui-colab/releases/download/0.0.16/xformers-0.0.16+814314d.d20230118-cp38-cp38-linux_x86_64.whl\n",
    "!pip install -q --pre triton"
   ]
  },
  {
   "cell_type": "code",
   "execution_count": null,
   "metadata": {},
   "outputs": [],
   "source": [
    "!wget https://civitai.com/api/download/models/18446 -O /content/stable-diffusion-webui/models/Stable-diffusion/dalcefoPainting_3rd.safetensors\n",
    "!wget https://civitai.com/api/download/models/6297 -O /content/stable-diffusion-webui/models/Stable-diffusion/pastelMixStylizedAnime_pastelMixPrunedFP16.safetensors\n",
    "!wget https://huggingface.co/andite/anything-v4.0/blob/main/anything-v4.5.safetensors -O /content/stable-diffusion-webui/models/Stable-diffusion/anything-v4.5.safetensors\n",
    "!mkdir -p /content/drive/MyDrive/stable-diffusion-webui/models/Lora\n",
    "!wget https://civitai.com/api/download/models/12050 -O /content/drive/MyDrive/stable-diffusion-webui/models/Lora/japaneseDollLikeness_v10.safetensors\n",
    "!wget https://civitai.com/api/download/models/8750 -O /content/drive/MyDrive/stable-diffusion-webui/models/Lora/koreanDollLikeness_v10.safetensors\n",
    "!wget https://civitai.com/api/download/models/9070 -O /content/drive/MyDrive/stable-diffusion-webui/models/Lora/taiwanDollLikeness_v10.safetensors\n",
    "!wget https://civitai.com/api/download/models/11195 -O /content/drive/MyDrive/stable-diffusion-webui/models/Lora/chinesedolllikeness.safetensors\n",
    "!wget https://civitai.com/api/download/models/13397 -O /content/drive/MyDrive/stable-diffusion-webui/models/Lora/asiangirllikeness_v20.safetensors\n"
   ]
  },
  {
   "cell_type": "code",
   "execution_count": null,
   "metadata": {},
   "outputs": [],
   "source": [
    "%cd /content/stable=diffusion-webui\n",
    "!python launch.py --share --xformers --enable-insecure-extension-access --gradio-queue --skip-torch-cuda-test"
   ]
  }
 ],
 "metadata": {
  "language_info": {
   "name": "python"
  },
  "orig_nbformat": 4
 },
 "nbformat": 4,
 "nbformat_minor": 2
}
